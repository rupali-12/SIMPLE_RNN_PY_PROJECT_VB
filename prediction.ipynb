{
 "cells": [
  {
   "cell_type": "code",
   "execution_count": 2,
   "metadata": {},
   "outputs": [],
   "source": [
    "# Step 1: Import Libraries and Load the Model\n",
    "import numpy as np\n",
    "import tensorflow as tf\n",
    "from tensorflow.keras.datasets import imdb\n",
    "from tensorflow.keras.preprocessing import sequence\n",
    "from tensorflow.keras.models import load_model"
   ]
  },
  {
   "cell_type": "code",
   "execution_count": 3,
   "metadata": {},
   "outputs": [],
   "source": [
    "\n",
    "# Load the IMDB dataset word index\n",
    "word_index = imdb.get_word_index()\n",
    "reverse_word_index = {value: key for key, value in word_index.items()}"
   ]
  },
  {
   "cell_type": "code",
   "execution_count": 4,
   "metadata": {},
   "outputs": [
    {
     "name": "stderr",
     "output_type": "stream",
     "text": [
      "WARNING:absl:Compiled the loaded model, but the compiled metrics have yet to be built. `model.compile_metrics` will be empty until you train or evaluate the model.\n"
     ]
    },
    {
     "data": {
      "text/html": [
       "<pre style=\"white-space:pre;overflow-x:auto;line-height:normal;font-family:Menlo,'DejaVu Sans Mono',consolas,'Courier New',monospace\"><span style=\"font-weight: bold\">Model: \"sequential\"</span>\n",
       "</pre>\n"
      ],
      "text/plain": [
       "\u001b[1mModel: \"sequential\"\u001b[0m\n"
      ]
     },
     "metadata": {},
     "output_type": "display_data"
    },
    {
     "data": {
      "text/html": [
       "<pre style=\"white-space:pre;overflow-x:auto;line-height:normal;font-family:Menlo,'DejaVu Sans Mono',consolas,'Courier New',monospace\">┏━━━━━━━━━━━━━━━━━━━━━━━━━━━━━━━━━┳━━━━━━━━━━━━━━━━━━━━━━━━┳━━━━━━━━━━━━━━━┓\n",
       "┃<span style=\"font-weight: bold\"> Layer (type)                    </span>┃<span style=\"font-weight: bold\"> Output Shape           </span>┃<span style=\"font-weight: bold\">       Param # </span>┃\n",
       "┡━━━━━━━━━━━━━━━━━━━━━━━━━━━━━━━━━╇━━━━━━━━━━━━━━━━━━━━━━━━╇━━━━━━━━━━━━━━━┩\n",
       "│ embedding (<span style=\"color: #0087ff; text-decoration-color: #0087ff\">Embedding</span>)           │ (<span style=\"color: #00af00; text-decoration-color: #00af00\">32</span>, <span style=\"color: #00af00; text-decoration-color: #00af00\">500</span>, <span style=\"color: #00af00; text-decoration-color: #00af00\">128</span>)         │     <span style=\"color: #00af00; text-decoration-color: #00af00\">1,280,000</span> │\n",
       "├─────────────────────────────────┼────────────────────────┼───────────────┤\n",
       "│ simple_rnn (<span style=\"color: #0087ff; text-decoration-color: #0087ff\">SimpleRNN</span>)          │ (<span style=\"color: #00af00; text-decoration-color: #00af00\">32</span>, <span style=\"color: #00af00; text-decoration-color: #00af00\">128</span>)              │        <span style=\"color: #00af00; text-decoration-color: #00af00\">32,896</span> │\n",
       "├─────────────────────────────────┼────────────────────────┼───────────────┤\n",
       "│ dense (<span style=\"color: #0087ff; text-decoration-color: #0087ff\">Dense</span>)                   │ (<span style=\"color: #00af00; text-decoration-color: #00af00\">32</span>, <span style=\"color: #00af00; text-decoration-color: #00af00\">1</span>)                │           <span style=\"color: #00af00; text-decoration-color: #00af00\">129</span> │\n",
       "└─────────────────────────────────┴────────────────────────┴───────────────┘\n",
       "</pre>\n"
      ],
      "text/plain": [
       "┏━━━━━━━━━━━━━━━━━━━━━━━━━━━━━━━━━┳━━━━━━━━━━━━━━━━━━━━━━━━┳━━━━━━━━━━━━━━━┓\n",
       "┃\u001b[1m \u001b[0m\u001b[1mLayer (type)                   \u001b[0m\u001b[1m \u001b[0m┃\u001b[1m \u001b[0m\u001b[1mOutput Shape          \u001b[0m\u001b[1m \u001b[0m┃\u001b[1m \u001b[0m\u001b[1m      Param #\u001b[0m\u001b[1m \u001b[0m┃\n",
       "┡━━━━━━━━━━━━━━━━━━━━━━━━━━━━━━━━━╇━━━━━━━━━━━━━━━━━━━━━━━━╇━━━━━━━━━━━━━━━┩\n",
       "│ embedding (\u001b[38;5;33mEmbedding\u001b[0m)           │ (\u001b[38;5;34m32\u001b[0m, \u001b[38;5;34m500\u001b[0m, \u001b[38;5;34m128\u001b[0m)         │     \u001b[38;5;34m1,280,000\u001b[0m │\n",
       "├─────────────────────────────────┼────────────────────────┼───────────────┤\n",
       "│ simple_rnn (\u001b[38;5;33mSimpleRNN\u001b[0m)          │ (\u001b[38;5;34m32\u001b[0m, \u001b[38;5;34m128\u001b[0m)              │        \u001b[38;5;34m32,896\u001b[0m │\n",
       "├─────────────────────────────────┼────────────────────────┼───────────────┤\n",
       "│ dense (\u001b[38;5;33mDense\u001b[0m)                   │ (\u001b[38;5;34m32\u001b[0m, \u001b[38;5;34m1\u001b[0m)                │           \u001b[38;5;34m129\u001b[0m │\n",
       "└─────────────────────────────────┴────────────────────────┴───────────────┘\n"
      ]
     },
     "metadata": {},
     "output_type": "display_data"
    },
    {
     "data": {
      "text/html": [
       "<pre style=\"white-space:pre;overflow-x:auto;line-height:normal;font-family:Menlo,'DejaVu Sans Mono',consolas,'Courier New',monospace\"><span style=\"font-weight: bold\"> Total params: </span><span style=\"color: #00af00; text-decoration-color: #00af00\">1,313,027</span> (5.01 MB)\n",
       "</pre>\n"
      ],
      "text/plain": [
       "\u001b[1m Total params: \u001b[0m\u001b[38;5;34m1,313,027\u001b[0m (5.01 MB)\n"
      ]
     },
     "metadata": {},
     "output_type": "display_data"
    },
    {
     "data": {
      "text/html": [
       "<pre style=\"white-space:pre;overflow-x:auto;line-height:normal;font-family:Menlo,'DejaVu Sans Mono',consolas,'Courier New',monospace\"><span style=\"font-weight: bold\"> Trainable params: </span><span style=\"color: #00af00; text-decoration-color: #00af00\">1,313,025</span> (5.01 MB)\n",
       "</pre>\n"
      ],
      "text/plain": [
       "\u001b[1m Trainable params: \u001b[0m\u001b[38;5;34m1,313,025\u001b[0m (5.01 MB)\n"
      ]
     },
     "metadata": {},
     "output_type": "display_data"
    },
    {
     "data": {
      "text/html": [
       "<pre style=\"white-space:pre;overflow-x:auto;line-height:normal;font-family:Menlo,'DejaVu Sans Mono',consolas,'Courier New',monospace\"><span style=\"font-weight: bold\"> Non-trainable params: </span><span style=\"color: #00af00; text-decoration-color: #00af00\">0</span> (0.00 B)\n",
       "</pre>\n"
      ],
      "text/plain": [
       "\u001b[1m Non-trainable params: \u001b[0m\u001b[38;5;34m0\u001b[0m (0.00 B)\n"
      ]
     },
     "metadata": {},
     "output_type": "display_data"
    },
    {
     "data": {
      "text/html": [
       "<pre style=\"white-space:pre;overflow-x:auto;line-height:normal;font-family:Menlo,'DejaVu Sans Mono',consolas,'Courier New',monospace\"><span style=\"font-weight: bold\"> Optimizer params: </span><span style=\"color: #00af00; text-decoration-color: #00af00\">2</span> (12.00 B)\n",
       "</pre>\n"
      ],
      "text/plain": [
       "\u001b[1m Optimizer params: \u001b[0m\u001b[38;5;34m2\u001b[0m (12.00 B)\n"
      ]
     },
     "metadata": {},
     "output_type": "display_data"
    }
   ],
   "source": [
    "# Load the pre-trained model with ReLU activation\n",
    "model = load_model('simple_rnn_imdb_output.h5')\n",
    "model.summary()"
   ]
  },
  {
   "cell_type": "code",
   "execution_count": 5,
   "metadata": {},
   "outputs": [
    {
     "data": {
      "text/plain": [
       "[array([[ 0.6113245 , -0.57013744,  0.42365283, ..., -0.04073101,\n",
       "          0.443022  ,  0.4511307 ],\n",
       "        [ 0.07901249, -0.008595  , -0.01925442, ..., -0.00327812,\n",
       "         -0.00222747, -0.01044512],\n",
       "        [ 0.12705617, -0.14109996,  0.20346579, ..., -0.06442677,\n",
       "          0.03821418,  0.05165122],\n",
       "        ...,\n",
       "        [-0.0450603 , -0.04945496, -0.02282162, ...,  0.05229361,\n",
       "          0.003988  , -0.04784613],\n",
       "        [-0.07805365, -0.00075554, -0.10171908, ...,  0.02940366,\n",
       "          0.05295857,  0.00148695],\n",
       "        [ 0.05671899,  0.13439925, -0.02986926, ..., -0.14049695,\n",
       "         -0.03834749,  0.10474865]], dtype=float32),\n",
       " array([[-0.03927474, -0.12048668, -0.11476518, ...,  0.118247  ,\n",
       "          0.11031595,  0.0802655 ],\n",
       "        [-0.05161299,  0.01740942, -0.02284212, ..., -0.06830724,\n",
       "          0.02461558,  0.14285272],\n",
       "        [ 0.0668484 , -0.0292866 , -0.08230167, ...,  0.09868336,\n",
       "          0.12050661, -0.13267413],\n",
       "        ...,\n",
       "        [ 0.05182888,  0.03638616,  0.17169426, ...,  0.20014025,\n",
       "         -0.0656685 ,  0.06364406],\n",
       "        [ 0.03531298, -0.10143139, -0.04818961, ...,  0.16551957,\n",
       "          0.03520161, -0.15619574],\n",
       "        [ 0.06538539, -0.07870019,  0.00760738, ..., -0.10729572,\n",
       "          0.07879753,  0.08074012]], dtype=float32),\n",
       " array([[ 0.08094326, -0.04453698,  0.11432405, ...,  0.01966373,\n",
       "          0.07871193, -0.14120221],\n",
       "        [ 0.11305138,  0.16265102, -0.06822988, ...,  0.11559788,\n",
       "         -0.03893124,  0.07377312],\n",
       "        [-0.11012974,  0.10442632,  0.082283  , ..., -0.02396819,\n",
       "         -0.08587296,  0.12164136],\n",
       "        ...,\n",
       "        [ 0.04049917, -0.0016279 , -0.15888913, ..., -0.07524286,\n",
       "          0.01771885,  0.13673118],\n",
       "        [-0.01675493, -0.02685995,  0.09510963, ..., -0.01859013,\n",
       "         -0.00822152, -0.13149191],\n",
       "        [-0.042281  , -0.02935643,  0.09398716, ...,  0.07283645,\n",
       "          0.13803183, -0.11906847]], dtype=float32),\n",
       " array([ 6.8333275e-03, -3.4138016e-02, -1.6231600e-02, -1.5971435e-02,\n",
       "         1.2707385e-03,  6.0610481e-02, -9.1194902e-03,  2.5136765e-02,\n",
       "        -7.1139210e-03, -1.5617918e-02, -4.3197040e-02,  3.2041661e-02,\n",
       "        -1.6345806e-02, -4.7759600e-02, -9.3627144e-03, -3.3807110e-02,\n",
       "        -4.0026031e-02, -9.2850868e-03,  1.7266734e-02,  3.3863354e-02,\n",
       "        -1.8326899e-02,  2.4680557e-02, -1.6619526e-03, -4.6923533e-02,\n",
       "        -1.9087007e-02, -3.9974213e-02,  1.3970340e-02, -4.0647790e-02,\n",
       "        -2.9710367e-02,  3.6953848e-02,  5.4572962e-02,  5.0332129e-02,\n",
       "         5.1437274e-02, -1.7693184e-02, -1.4205589e-02, -2.9489288e-02,\n",
       "         5.5412479e-02, -5.5241518e-02,  2.2818465e-02,  1.0198102e-02,\n",
       "        -4.4106301e-02,  3.2245222e-02,  1.6367566e-02,  1.1812150e-02,\n",
       "         1.7871341e-02, -2.5540879e-02, -3.2419465e-02, -2.8207902e-02,\n",
       "         1.9576229e-02, -4.8446987e-02, -2.8061413e-03, -1.2131891e-02,\n",
       "         7.6155797e-02, -3.9804861e-02,  6.8491004e-02, -4.5486130e-02,\n",
       "         8.5294001e-02,  3.3066470e-02, -1.4845600e-02, -3.0822141e-02,\n",
       "        -4.0495615e-02,  3.9873596e-02, -2.4909426e-02,  2.1019449e-02,\n",
       "        -2.3504928e-02, -5.7085305e-02,  4.9569163e-02, -3.9431643e-02,\n",
       "         4.3455482e-02, -4.3328315e-02, -1.9008836e-02,  1.9541435e-02,\n",
       "        -5.7780057e-02,  2.8656051e-02, -2.2121537e-02, -2.7455714e-02,\n",
       "         5.8489040e-02,  4.3700654e-02, -1.0615654e-02, -2.0991093e-03,\n",
       "        -1.5917741e-02, -5.1623587e-02, -9.2518469e-03, -4.9670760e-02,\n",
       "        -1.0887030e-02, -3.4115426e-02, -5.9204869e-02,  4.2280201e-03,\n",
       "         4.4232216e-02,  1.0439246e-02,  6.2134672e-02,  1.4901969e-02,\n",
       "        -3.8184043e-02,  2.1343201e-02, -1.1205274e-02,  5.0253805e-02,\n",
       "        -4.2711060e-02, -4.5115158e-02, -5.5460893e-02, -4.3202464e-02,\n",
       "         1.5650251e-03,  5.5730872e-02, -2.7308043e-03,  4.5033105e-02,\n",
       "        -4.4994619e-02, -5.5636995e-02, -3.8683049e-02,  4.5520753e-02,\n",
       "        -2.4847560e-02,  2.5967458e-05, -3.6857635e-02,  4.9831562e-02,\n",
       "         1.3485256e-02, -9.4742104e-03,  2.1652687e-02,  1.7315946e-03,\n",
       "         1.1997673e-02,  5.1226646e-02,  7.9284040e-03, -4.7935303e-02,\n",
       "         3.1026036e-02, -4.0430434e-02, -2.6649605e-02,  2.5724882e-02,\n",
       "        -2.7639184e-02, -5.6095131e-02, -1.1445623e-02, -9.5288921e-03],\n",
       "       dtype=float32),\n",
       " array([[ 0.0857542 ],\n",
       "        [-0.11062427],\n",
       "        [-0.11950375],\n",
       "        [-0.01897431],\n",
       "        [-0.18844981],\n",
       "        [ 0.20083778],\n",
       "        [ 0.43951324],\n",
       "        [-1.3398615 ],\n",
       "        [-0.25720617],\n",
       "        [-0.09822711],\n",
       "        [-0.15164267],\n",
       "        [-0.4500618 ],\n",
       "        [ 0.00223099],\n",
       "        [-0.02667918],\n",
       "        [ 0.17885959],\n",
       "        [-0.08798245],\n",
       "        [-0.09336902],\n",
       "        [ 0.23696591],\n",
       "        [-0.02606695],\n",
       "        [-0.3247663 ],\n",
       "        [-0.03138915],\n",
       "        [-0.18230782],\n",
       "        [ 0.09197191],\n",
       "        [-0.18030919],\n",
       "        [ 0.05643907],\n",
       "        [ 0.06566817],\n",
       "        [-0.07587992],\n",
       "        [-0.42502996],\n",
       "        [-0.21173184],\n",
       "        [-0.06102895],\n",
       "        [ 0.05563954],\n",
       "        [ 0.10514819],\n",
       "        [ 0.05534064],\n",
       "        [-0.04784188],\n",
       "        [-0.17890695],\n",
       "        [ 0.13004342],\n",
       "        [ 0.1853247 ],\n",
       "        [-0.06675136],\n",
       "        [-0.27745223],\n",
       "        [-0.07162041],\n",
       "        [-0.11364955],\n",
       "        [-0.16675417],\n",
       "        [ 0.1211171 ],\n",
       "        [-0.25071958],\n",
       "        [-0.02317641],\n",
       "        [-0.1428362 ],\n",
       "        [ 0.11011701],\n",
       "        [-0.20024079],\n",
       "        [ 0.4476381 ],\n",
       "        [-0.8925632 ],\n",
       "        [-0.1691445 ],\n",
       "        [-0.07596942],\n",
       "        [-0.00831532],\n",
       "        [-0.01902604],\n",
       "        [ 0.0750822 ],\n",
       "        [-0.03688157],\n",
       "        [-0.00229524],\n",
       "        [-0.01881043],\n",
       "        [ 0.04211215],\n",
       "        [ 0.00306244],\n",
       "        [-0.0788919 ],\n",
       "        [-0.07731783],\n",
       "        [ 0.06837178],\n",
       "        [-0.0532106 ],\n",
       "        [-0.02078983],\n",
       "        [-0.03538964],\n",
       "        [-0.06304207],\n",
       "        [-0.03512984],\n",
       "        [ 0.15035436],\n",
       "        [-0.3962067 ],\n",
       "        [-0.28571093],\n",
       "        [ 0.08547366],\n",
       "        [-0.13934056],\n",
       "        [-0.29786086],\n",
       "        [ 0.05050853],\n",
       "        [ 0.16986851],\n",
       "        [ 0.2015683 ],\n",
       "        [ 0.11844518],\n",
       "        [-0.03418832],\n",
       "        [-0.12991683],\n",
       "        [ 0.22974549],\n",
       "        [-0.153027  ],\n",
       "        [-0.24440497],\n",
       "        [-0.15835619],\n",
       "        [-0.78937966],\n",
       "        [-0.21032682],\n",
       "        [-0.07729825],\n",
       "        [-0.12669078],\n",
       "        [ 0.22571707],\n",
       "        [-0.06529276],\n",
       "        [ 0.06831676],\n",
       "        [-0.1774491 ],\n",
       "        [-0.35253662],\n",
       "        [ 0.00830044],\n",
       "        [-0.00953083],\n",
       "        [-0.1387882 ],\n",
       "        [-0.17013046],\n",
       "        [-0.20494261],\n",
       "        [-0.11425875],\n",
       "        [-0.16973507],\n",
       "        [ 0.03801931],\n",
       "        [ 0.19045939],\n",
       "        [-0.14918926],\n",
       "        [-0.04374564],\n",
       "        [-0.2406699 ],\n",
       "        [ 0.18993719],\n",
       "        [-0.14547646],\n",
       "        [ 0.09967422],\n",
       "        [-0.13031925],\n",
       "        [-0.23568456],\n",
       "        [-0.36277527],\n",
       "        [-0.32300186],\n",
       "        [-0.13558416],\n",
       "        [ 0.03725371],\n",
       "        [-0.1272271 ],\n",
       "        [-0.10990642],\n",
       "        [-0.09997617],\n",
       "        [-0.14249451],\n",
       "        [ 0.13110816],\n",
       "        [-0.17333695],\n",
       "        [ 0.1120516 ],\n",
       "        [-0.06430172],\n",
       "        [ 0.06755824],\n",
       "        [-0.10771471],\n",
       "        [-0.12856665],\n",
       "        [-0.06299726],\n",
       "        [-0.14185323],\n",
       "        [-0.11417852]], dtype=float32),\n",
       " array([-0.9257622], dtype=float32)]"
      ]
     },
     "execution_count": 5,
     "metadata": {},
     "output_type": "execute_result"
    }
   ],
   "source": [
    "model.get_weights()"
   ]
  },
  {
   "cell_type": "code",
   "execution_count": 6,
   "metadata": {},
   "outputs": [],
   "source": [
    "# Step 2: Helper Functions\n",
    "# Function to decode reviews\n",
    "def decode_review(encoded_review):\n",
    "    return ' '.join([reverse_word_index.get(i - 3, '?') for i in encoded_review])\n",
    "\n",
    "# Function to preprocess user input\n",
    "def preprocess_text(text):\n",
    "    words = text.lower().split()\n",
    "    encoded_review = [word_index.get(word, 2) + 3 for word in words]\n",
    "    padded_review = sequence.pad_sequences([encoded_review], maxlen=500)\n",
    "    return padded_review"
   ]
  },
  {
   "cell_type": "code",
   "execution_count": 7,
   "metadata": {},
   "outputs": [],
   "source": [
    "### Prediction  function\n",
    "\n",
    "def predict_sentiment(review):\n",
    "    preprocessed_input=preprocess_text(review)\n",
    "\n",
    "    prediction=model.predict(preprocessed_input)\n",
    "\n",
    "    sentiment = 'Positive' if prediction[0][0] > 0.5 else 'Negative'\n",
    "    \n",
    "    return sentiment, prediction[0][0]\n",
    "\n"
   ]
  },
  {
   "cell_type": "code",
   "execution_count": 12,
   "metadata": {},
   "outputs": [
    {
     "name": "stdout",
     "output_type": "stream",
     "text": [
      "\u001b[1m1/1\u001b[0m \u001b[32m━━━━━━━━━━━━━━━━━━━━\u001b[0m\u001b[37m\u001b[0m \u001b[1m0s\u001b[0m 77ms/step\n",
      "Review: This movie was fantastic! The acting was great and the plot was thrilling.\n",
      "Sentiment: Positive\n",
      "Prediction Score: 0.5412881374359131\n"
     ]
    }
   ],
   "source": [
    "# Step 4: User Input and Prediction\n",
    "# Example review for prediction\n",
    "# example_review = \"This movie was fantastic! The acting was great and the plot was thrilling.\"\n",
    "example_review = \"Bad Movie! \"\n",
    "\n",
    "sentiment,score=predict_sentiment(example_review)\n",
    "\n",
    "print(f'Review: {example_review}')\n",
    "print(f'Sentiment: {sentiment}')\n",
    "print(f'Prediction Score: {score}')"
   ]
  },
  {
   "cell_type": "code",
   "execution_count": null,
   "metadata": {},
   "outputs": [],
   "source": []
  }
 ],
 "metadata": {
  "kernelspec": {
   "display_name": "Python 3",
   "language": "python",
   "name": "python3"
  },
  "language_info": {
   "codemirror_mode": {
    "name": "ipython",
    "version": 3
   },
   "file_extension": ".py",
   "mimetype": "text/x-python",
   "name": "python",
   "nbconvert_exporter": "python",
   "pygments_lexer": "ipython3",
   "version": "3.11.3"
  }
 },
 "nbformat": 4,
 "nbformat_minor": 2
}
